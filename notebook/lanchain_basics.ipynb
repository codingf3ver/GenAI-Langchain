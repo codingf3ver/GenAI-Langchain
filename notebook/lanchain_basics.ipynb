{
 "cells": [
  {
   "cell_type": "code",
   "execution_count": 35,
   "id": "08b66022",
   "metadata": {},
   "outputs": [],
   "source": [
    "from langchain_aws import ChatBedrockConverse\n",
    "\n",
    "llm = ChatBedrockConverse(\n",
    "    model_id=\"anthropic.claude-3-5-sonnet-20240620-v1:0\",\n",
    "    # region_name=...,\n",
    "    # aws_access_key_id=...,\n",
    "    # aws_secret_access_key=...,\n",
    "    # aws_session_token=...,\n",
    "    # temperature=...,\n",
    "    # max_tokens=...,\n",
    "    # other params...\n",
    ")"
   ]
  },
  {
   "cell_type": "code",
   "execution_count": 5,
   "id": "70e63b36",
   "metadata": {},
   "outputs": [
    {
     "data": {
      "text/plain": [
       "AIMessage(content='আমি প্রোগ্রামিং পছন্দ করি।\\n\\n(Ami programming pochondo kori.)', additional_kwargs={}, response_metadata={'ResponseMetadata': {'RequestId': '1d68730e-f8a4-4964-93f8-ad8c3a97c9a4', 'HTTPStatusCode': 200, 'HTTPHeaders': {'date': 'Thu, 14 Aug 2025 06:12:59 GMT', 'content-type': 'application/json', 'content-length': '290', 'connection': 'keep-alive', 'x-amzn-requestid': '1d68730e-f8a4-4964-93f8-ad8c3a97c9a4'}, 'RetryAttempts': 0}, 'stopReason': 'end_turn', 'metrics': {'latencyMs': [1150]}, 'model_name': 'anthropic.claude-3-5-sonnet-20240620-v1:0'}, id='run--f910ad9f-3fa8-4519-9694-640a0ec0976e-0', usage_metadata={'input_tokens': 29, 'output_tokens': 36, 'total_tokens': 65, 'input_token_details': {'cache_creation': 0, 'cache_read': 0}})"
      ]
     },
     "execution_count": 5,
     "metadata": {},
     "output_type": "execute_result"
    }
   ],
   "source": [
    "messages = [\n",
    "    (\n",
    "        \"system\",\n",
    "        \"You are a helpful assistant that translates English to Bengali. Translate the user sentence.\",\n",
    "    ),\n",
    "    (\"human\", \"I love programming.\"),\n",
    "]\n",
    "ai_msg = llm.invoke(messages)\n",
    "ai_msg"
   ]
  },
  {
   "cell_type": "code",
   "execution_count": 6,
   "id": "f296c657",
   "metadata": {},
   "outputs": [
    {
     "name": "stdout",
     "output_type": "stream",
     "text": [
      "আমি প্রোগ্রামিং পছন্দ করি।\n",
      "\n",
      "(Ami programming pochondo kori.)\n"
     ]
    }
   ],
   "source": [
    "print(ai_msg.content)"
   ]
  },
  {
   "cell_type": "code",
   "execution_count": 8,
   "id": "afa8debd",
   "metadata": {},
   "outputs": [],
   "source": [
    "from typing import Annotated\n",
    "\n",
    "from typing_extensions import TypedDict\n",
    "\n",
    "from langgraph.graph import StateGraph, START, END\n",
    "from langgraph.graph.message import add_messages\n",
    "\n",
    "\n",
    "class State(TypedDict):\n",
    "    # Messages have the type \"list\". The `add_messages` function\n",
    "    # in the annotation defines how this state key should be updated\n",
    "    # (in this case, it appends messages to the list, rather than overwriting them)\n",
    "    messages: Annotated[list, add_messages]\n",
    "\n",
    "\n",
    "graph_builder = StateGraph(State)"
   ]
  },
  {
   "cell_type": "code",
   "execution_count": null,
   "id": "d26ccbea",
   "metadata": {},
   "outputs": [],
   "source": [
    "\n",
    "from langchain.chat_models import init_chat_model\n",
    "\n",
    "# Follow the steps here to configure your credentials:\n",
    "# https://docs.aws.amazon.com/bedrock/latest/userguide/getting-started.html\n",
    "\n",
    "llm = init_chat_model(\n",
    "    \"anthropic.claude-3-5-sonnet-20240620-v1:0\",\n",
    "    model_provider=\"bedrock_converse\",\n",
    ")"
   ]
  },
  {
   "cell_type": "code",
   "execution_count": 9,
   "id": "38e738b4",
   "metadata": {},
   "outputs": [
    {
     "data": {
      "text/plain": [
       "<langgraph.graph.state.StateGraph at 0x10e51f8c0>"
      ]
     },
     "execution_count": 9,
     "metadata": {},
     "output_type": "execute_result"
    }
   ],
   "source": [
    "def chatbot(state: State):\n",
    "    return {\"messages\": [llm.invoke(state[\"messages\"])]}\n",
    "\n",
    "\n",
    "# The first argument is the unique node name\n",
    "# The second argument is the function or object that will be called whenever\n",
    "# the node is used.\n",
    "graph_builder.add_node(\"chatbot\", chatbot)"
   ]
  },
  {
   "cell_type": "code",
   "execution_count": 10,
   "id": "81b6dfb9",
   "metadata": {},
   "outputs": [
    {
     "data": {
      "text/plain": [
       "<langgraph.graph.state.StateGraph at 0x10e51f8c0>"
      ]
     },
     "execution_count": 10,
     "metadata": {},
     "output_type": "execute_result"
    }
   ],
   "source": [
    "graph_builder.add_edge(START, \"chatbot\")"
   ]
  },
  {
   "cell_type": "code",
   "execution_count": 11,
   "id": "fa7e780c",
   "metadata": {},
   "outputs": [
    {
     "data": {
      "text/plain": [
       "<langgraph.graph.state.StateGraph at 0x10e51f8c0>"
      ]
     },
     "execution_count": 11,
     "metadata": {},
     "output_type": "execute_result"
    }
   ],
   "source": [
    "graph_builder.add_edge(\"chatbot\", END)"
   ]
  },
  {
   "cell_type": "code",
   "execution_count": 12,
   "id": "2e1961b7",
   "metadata": {},
   "outputs": [],
   "source": [
    "graph = graph_builder.compile()"
   ]
  },
  {
   "cell_type": "code",
   "execution_count": 13,
   "id": "ea0a7232",
   "metadata": {},
   "outputs": [
    {
     "data": {
      "image/png": "[encoded data removed]",
      "text/plain": [
       "<IPython.core.display.Image object>"
      ]
     },
     "metadata": {},
     "output_type": "display_data"
    }
   ],
   "source": [
    "from IPython.display import Image, display\n",
    "\n",
    "try:\n",
    "    display(Image(graph.get_graph().draw_mermaid_png()))\n",
    "except Exception:\n",
    "    # This requires some extra dependencies and is optional\n",
    "    pass"
   ]
  },
  {
   "cell_type": "code",
   "execution_count": 15,
   "id": "81e02e58",
   "metadata": {},
   "outputs": [
    {
     "name": "stdout",
     "output_type": "stream",
     "text": [
      "Assistant: Bhavish Aggarwal is an Indian entrepreneur and businessman, best known as the co-founder and CEO of Ola Cabs (now Ola Electric). Here are some key points about him:\n",
      "\n",
      "1. Born in 1985 in Ludhiana, Punjab, India.\n",
      "\n",
      "2. Graduated from the Indian Institute of Technology (IIT) Bombay in 2008 with a degree in Computer Science and Engineering.\n",
      "\n",
      "3. Co-founded Ola Cabs in 2010 with Ankit Bhati, which grew to become one of India's largest ride-hailing companies.\n",
      "\n",
      "4. Expanded Ola's operations internationally to countries like the UK, Australia, and New Zealand.\n",
      "\n",
      "5. Pivoted the company towards electric mobility, launching Ola Electric in 2017 to focus on electric scooters and other EVs.\n",
      "\n",
      "6. Known for his ambitious goals and aggressive business strategies.\n",
      "\n",
      "7. Has received several accolades, including being listed in Time Magazine's 100 Most Influential People of 2018.\n",
      "\n",
      "8. Faced some controversies, including conflicts with investors and challenges in the electric scooter launch.\n",
      "\n",
      "9. Considered one of India's most successful young entrepreneurs.\n",
      "\n",
      "10. Actively involved in India's startup ecosystem and known for promoting indigenous technology development.\n",
      "\n",
      "Bhavish Aggarwal's career trajectory has been marked by rapid growth and a shift towards sustainable transportation solutions, making him a significant figure in India's tech and automotive industries.\n",
      "Goodbye!\n"
     ]
    }
   ],
   "source": [
    "def stream_graph_updates(user_input: str):\n",
    "    for event in graph.stream({\"messages\": [{\"role\": \"user\", \"content\": user_input}]}):\n",
    "        for value in event.values():\n",
    "            print(\"Assistant:\", value[\"messages\"][-1].content)\n",
    "\n",
    "\n",
    "while True:\n",
    "    try:\n",
    "        user_input = input(\"User: \")\n",
    "        if user_input.lower() in [\"quit\", \"exit\", \"q\"]:\n",
    "            print(\"Goodbye!\")\n",
    "            break\n",
    "        stream_graph_updates(user_input)\n",
    "    except:\n",
    "        # fallback if input() is not available\n",
    "        user_input = \"What do you know about LangGraph?\"\n",
    "        print(\"User: \" + user_input)\n",
    "        stream_graph_updates(user_input)\n",
    "        break"
   ]
  },
  {
   "cell_type": "markdown",
   "id": "52b132b5",
   "metadata": {},
   "source": [
    "#### add a online tool in case model not able to answer"
   ]
  },
  {
   "cell_type": "code",
   "execution_count": 17,
   "id": "9f887e67",
   "metadata": {},
   "outputs": [
    {
     "data": {
      "text/plain": [
       "True"
      ]
     },
     "execution_count": 17,
     "metadata": {},
     "output_type": "execute_result"
    }
   ],
   "source": [
    "from dotenv import load_dotenv\n",
    "import os\n",
    "\n",
    "load_dotenv()"
   ]
  },
  {
   "cell_type": "code",
   "execution_count": 19,
   "id": "2abaaab4",
   "metadata": {},
   "outputs": [],
   "source": [
    "TAVILY_API_KEY=os.environ.get('TAVILY_API_KEY')"
   ]
  },
  {
   "cell_type": "code",
   "execution_count": null,
   "id": "3e8058bb",
   "metadata": {},
   "outputs": [
    {
     "data": {
      "text/plain": [
       "{'query': \"What's a 'node' in LangGraph?\",\n",
       " 'follow_up_questions': None,\n",
       " 'answer': None,\n",
       " 'images': [],\n",
       " 'results': [{'url': 'https://www.ibm.com/think/topics/langgraph',\n",
       "   'title': 'What is LangGraph? - IBM',\n",
       "   'content': 'LangGraph, created by LangChain, is an open source AI agent framework designed to build, deploy and manage complex generative AI agent workflows. At its core, LangGraph uses the power of graph-based architectures to model and manage the intricate relationships between various components of an AI agent workflow. LangGraph illuminates the processes within an AI workflow, allowing full transparency of the agent’s state. By combining these technologies with a set of APIs and tools, LangGraph provides users with a versatile platform for developing AI solutions and workflows including chatbots, state graphs and other agent-based systems. Nodes: In LangGraph, nodes represent individual components or agents within an AI workflow. LangGraph uses enhanced decision-making by modeling complex relationships between nodes, which means it uses AI agents to analyze their past actions and feedback.',\n",
       "   'score': 0.90907925,\n",
       "   'raw_content': None},\n",
       "  {'url': 'https://www.ionio.ai/blog/a-comprehensive-guide-about-langgraph-code-included',\n",
       "   'title': 'A Comprehensive Guide About Langgraph: Code Included - Ionio',\n",
       "   'content': 'A node can be any function or tool your agent uses in langgraph and these nodes are connected with other nodes using edges. Every workflow ends with a “END”',\n",
       "   'score': 0.89166987,\n",
       "   'raw_content': None}],\n",
       " 'response_time': 0.99}"
      ]
     },
     "execution_count": 20,
     "metadata": {},
     "output_type": "execute_result"
    }
   ],
   "source": []
  },
  {
   "cell_type": "code",
   "execution_count": 21,
   "id": "f980e869",
   "metadata": {},
   "outputs": [],
   "source": [
    "from langchain.chat_models import init_chat_model\n",
    "\n",
    "\n",
    "llm = init_chat_model(\n",
    "    \"anthropic.claude-3-5-sonnet-20240620-v1:0\",\n",
    "    model_provider=\"bedrock_converse\",\n",
    ")"
   ]
  },
  {
   "cell_type": "code",
   "execution_count": 22,
   "id": "7614666e",
   "metadata": {},
   "outputs": [
    {
     "data": {
      "text/plain": [
       "<langgraph.graph.state.StateGraph at 0x10e439e20>"
      ]
     },
     "execution_count": 22,
     "metadata": {},
     "output_type": "execute_result"
    }
   ],
   "source": [
    "from typing import Annotated\n",
    "\n",
    "from typing_extensions import TypedDict\n",
    "\n",
    "from langgraph.graph import StateGraph, START, END\n",
    "from langgraph.graph.message import add_messages\n",
    "\n",
    "class State(TypedDict):\n",
    "    messages: Annotated[list, add_messages]\n",
    "\n",
    "graph_builder = StateGraph(State)\n",
    "\n",
    "# Modification: tell the LLM which tools it can call\n",
    "llm_with_tools = llm.bind_tools(tools)\n",
    "\n",
    "def chatbot(state: State):\n",
    "    return {\"messages\": [llm_with_tools.invoke(state[\"messages\"])]}\n",
    "\n",
    "graph_builder.add_node(\"chatbot\", chatbot)"
   ]
  },
  {
   "cell_type": "code",
   "execution_count": 23,
   "id": "07a63d1d",
   "metadata": {},
   "outputs": [
    {
     "data": {
      "text/plain": [
       "<langgraph.graph.state.StateGraph at 0x10e439e20>"
      ]
     },
     "execution_count": 23,
     "metadata": {},
     "output_type": "execute_result"
    }
   ],
   "source": [
    "import json\n",
    "\n",
    "from langchain_core.messages import ToolMessage\n",
    "\n",
    "\n",
    "class BasicToolNode:\n",
    "    \"\"\"A node that runs the tools requested in the last AIMessage.\"\"\"\n",
    "\n",
    "    def __init__(self, tools: list) -> None:\n",
    "        self.tools_by_name = {tool.name: tool for tool in tools}\n",
    "\n",
    "    def __call__(self, inputs: dict):\n",
    "        if messages := inputs.get(\"messages\", []):\n",
    "            message = messages[-1]\n",
    "        else:\n",
    "            raise ValueError(\"No message found in input\")\n",
    "        outputs = []\n",
    "        for tool_call in message.tool_calls:\n",
    "            tool_result = self.tools_by_name[tool_call[\"name\"]].invoke(\n",
    "                tool_call[\"args\"]\n",
    "            )\n",
    "            outputs.append(\n",
    "                ToolMessage(\n",
    "                    content=json.dumps(tool_result),\n",
    "                    name=tool_call[\"name\"],\n",
    "                    tool_call_id=tool_call[\"id\"],\n",
    "                )\n",
    "            )\n",
    "        return {\"messages\": outputs}\n",
    "\n",
    "\n",
    "tool_node = BasicToolNode(tools=[tool])\n",
    "graph_builder.add_node(\"tools\", tool_node)"
   ]
  },
  {
   "cell_type": "code",
   "execution_count": 24,
   "id": "55ac50e8",
   "metadata": {},
   "outputs": [],
   "source": [
    "def route_tools(\n",
    "    state: State,\n",
    "):\n",
    "    \"\"\"\n",
    "    Use in the conditional_edge to route to the ToolNode if the last message\n",
    "    has tool calls. Otherwise, route to the end.\n",
    "    \"\"\"\n",
    "    if isinstance(state, list):\n",
    "        ai_message = state[-1]\n",
    "    elif messages := state.get(\"messages\", []):\n",
    "        ai_message = messages[-1]\n",
    "    else:\n",
    "        raise ValueError(f\"No messages found in input state to tool_edge: {state}\")\n",
    "    if hasattr(ai_message, \"tool_calls\") and len(ai_message.tool_calls) > 0:\n",
    "        return \"tools\"\n",
    "    return END\n",
    "\n",
    "\n",
    "# The `tools_condition` function returns \"tools\" if the chatbot asks to use a tool, and \"END\" if\n",
    "# it is fine directly responding. This conditional routing defines the main agent loop.\n",
    "graph_builder.add_conditional_edges(\n",
    "    \"chatbot\",\n",
    "    route_tools,\n",
    "    # The following dictionary lets you tell the graph to interpret the condition's outputs as a specific node\n",
    "    # It defaults to the identity function, but if you\n",
    "    # want to use a node named something else apart from \"tools\",\n",
    "    # You can update the value of the dictionary to something else\n",
    "    # e.g., \"tools\": \"my_tools\"\n",
    "    {\"tools\": \"tools\", END: END},\n",
    ")\n",
    "# Any time a tool is called, we return to the chatbot to decide the next step\n",
    "graph_builder.add_edge(\"tools\", \"chatbot\")\n",
    "graph_builder.add_edge(START, \"chatbot\")\n",
    "graph = graph_builder.compile()"
   ]
  },
  {
   "cell_type": "code",
   "execution_count": 25,
   "id": "bedabbef",
   "metadata": {},
   "outputs": [
    {
     "data": {
      "image/png": "[encoded data removed]",
      "text/plain": [
       "<IPython.core.display.Image object>"
      ]
     },
     "metadata": {},
     "output_type": "display_data"
    }
   ],
   "source": [
    "from IPython.display import Image, display\n",
    "\n",
    "try:\n",
    "    display(Image(graph.get_graph().draw_mermaid_png()))\n",
    "except Exception:\n",
    "    # This requires some extra dependencies and is optional\n",
    "    pass"
   ]
  },
  {
   "cell_type": "code",
   "execution_count": 26,
   "id": "016f2805",
   "metadata": {},
   "outputs": [
    {
     "name": "stdout",
     "output_type": "stream",
     "text": [
      "Assistant: [{'type': 'text', 'text': 'To get the current stock prices of Tesla and NVIDIA, we\\'ll need to use the Tavily search engine to find the most up-to-date financial information. Since this is a finance-related query, we\\'ll use the \"finance\" topic for more accurate results. Let\\'s search for each company separately to ensure we get precise information.'}, {'type': 'tool_use', 'name': 'tavily_search', 'input': {'query': 'Tesla current stock price TSLA', 'topic': 'finance'}, 'id': 'tooluse_qP-h9bEOQM-jweJ9qt0qiA'}]\n",
      "Assistant: {\"query\": \"Tesla current stock price TSLA\", \"follow_up_questions\": null, \"answer\": null, \"images\": [], \"results\": [{\"title\": \"Financial Analysis for TSLA\", \"url\": \"https://finance.yahoo.com/quote/TSLA/\", \"content\": \"Stock: TSLA\\nFinancial Analysis:\\nLatest Open Price: 341.50 Latest Close Price: 339.38 Highest Close Price: 479.86 Lowest Close Price: 142.05 Average Close Price (2 years): 259.08 Standard Deviation of Close Price: 69.73 Volume Traded (2 years): 51746532300 Total Return (2 years): 41.55% Annualized Return (2 years): 18.97% CAGR (2 years): 18.97% Sharpe Ratio (2 years): 0.27 Max Drawdown (2 years): 0.04% \", \"score\": 0.98819, \"raw_content\": null}, {\"url\": \"https://www.wsj.com/market-data/quotes/TSLA\", \"title\": \"Tesla Inc. (TSLA) Stock Price Today - WSJ\", \"content\": \"Current: $0.49. 1 month ago: $0.50. 3 months ago: $0.54. Q4 2025 Estimate Trends. Current: $0.49. 1 month ago: $0.58. 3 months ago: $0.62. More \\u00b7 Financials\", \"score\": 0.8729662, \"raw_content\": null}], \"response_time\": 2.83}\n",
      "Assistant: [{'type': 'text', 'text': \"Now, let's search for NVIDIA's stock price:\"}, {'type': 'tool_use', 'name': 'tavily_search', 'input': {'topic': 'finance', 'query': 'NVIDIA current stock price NVDA'}, 'id': 'tooluse_m95x_RxDQViafAA1OKZtBw'}]\n",
      "Assistant: {\"query\": \"NVIDIA current stock price NVDA\", \"follow_up_questions\": null, \"answer\": null, \"images\": [], \"results\": [{\"title\": \"Financial Analysis for NVDA\", \"url\": \"https://finance.yahoo.com/quote/NVDA/\", \"content\": \"Stock: NVDA\\nFinancial Analysis:\\nLatest Open Price: 182.62 Latest Close Price: 181.59 Highest Close Price: 183.16 Lowest Close Price: 40.30 Average Close Price (2 years): 104.26 Standard Deviation of Close Price: 38.59 Volume Traded (2 years): 177469966600 Total Return (2 years): 315.29% Annualized Return (2 years): 103.79% CAGR (2 years): 103.79% Sharpe Ratio (2 years): 2.69 Max Drawdown (2 years): 0.57% \", \"score\": 0.98946, \"raw_content\": null}, {\"url\": \"https://ca.finance.yahoo.com/quote/NVDA/analysis/\", \"title\": \"NVIDIA Corporation (NVDA) Analyst Ratings, Estimates & Forecasts\", \"content\": \"Analyst Price Targets. 100.00 Low. 185.18 Average. 181.59 Current. 250.00 High. Earnings Estimate. Currency in USD, Current Qtr. (Jul 2025), Next Qtr. (Oct 2025)\", \"score\": 0.87218446, \"raw_content\": null}], \"response_time\": 1.94}\n",
      "Assistant: Based on the search results, I can provide you with the current stock prices for Tesla (TSLA) and NVIDIA (NVDA):\n",
      "\n",
      "1. Tesla (TSLA):\n",
      "   Current stock price: $339.38\n",
      "\n",
      "2. NVIDIA (NVDA):\n",
      "   Current stock price: $181.59\n",
      "\n",
      "Please note that stock prices can fluctuate rapidly, and these prices are based on the most recent data available from the search results. The actual prices may have changed slightly since this information was retrieved. If you need real-time prices or more detailed financial information, I recommend checking a live financial platform or stock ticker.\n",
      "Goodbye!\n"
     ]
    }
   ],
   "source": [
    "def stream_graph_updates(user_input: str):\n",
    "    for event in graph.stream({\"messages\": [{\"role\": \"user\", \"content\": user_input}]}):\n",
    "        for value in event.values():\n",
    "            print(\"Assistant:\", value[\"messages\"][-1].content)\n",
    "\n",
    "while True:\n",
    "    try:\n",
    "        user_input = input(\"User: \")\n",
    "        if user_input.lower() in [\"quit\", \"exit\", \"q\"]:\n",
    "            print(\"Goodbye!\")\n",
    "            break\n",
    "\n",
    "        stream_graph_updates(user_input)\n",
    "    except:\n",
    "        # fallback if input() is not available\n",
    "        user_input = \"What do you know about LangGraph?\"\n",
    "        print(\"User: \" + user_input)\n",
    "        stream_graph_updates(user_input)\n",
    "        break"
   ]
  },
  {
   "cell_type": "markdown",
   "id": "ea0c3d75",
   "metadata": {},
   "source": [
    "#### remember previous chat question and answer"
   ]
  },
  {
   "cell_type": "code",
   "execution_count": null,
   "id": "662d3bb2",
   "metadata": {},
   "outputs": [],
   "source": [
    "from langgraph.checkpoint.memory import InMemorySaver\n",
    "\n",
    "memory = InMemorySaver()\n",
    "\n",
    "from langchain_tavily import TavilySearch\n",
    "from dotenv import load_dotenv\n",
    "import os\n",
    "\n",
    "load_dotenv()\n",
    "\n",
    "from typing import Annotated\n",
    "\n",
    "from typing_extensions import TypedDict\n",
    "\n",
    "from langgraph.graph import StateGraph, START, END\n",
    "from langgraph.graph.message import add_messages\n",
    "\n",
    "TAVILY_API_KEY=os.environ.get('TAVILY_API_KEY')\n",
    "class State(TypedDict):\n",
    "    # Messages have the type \"list\". The `add_messages` function\n",
    "    # in the annotation defines how this state key should be updated\n",
    "    # (in this case, it appends messages to the list, rather than overwriting them)\n",
    "    messages: Annotated[list, add_messages]\n",
    "\n",
    "\n",
    "graph_builder = StateGraph(State)\n",
    "from langchain.chat_models import init_chat_model\n",
    "\n",
    "# Follow the steps here to configure your credentials:\n",
    "# https://docs.aws.amazon.com/bedrock/latest/userguide/getting-started.html\n",
    "\n",
    "llm = init_chat_model(\n",
    "    \"anthropic.claude-3-5-sonnet-20240620-v1:0\",\n",
    "    model_provider=\"bedrock_converse\",\n",
    ")\n",
    "tool = TavilySearch(max_results=2)\n",
    "tools = [tool]\n",
    "tool.invoke(\"What's a 'node' in LangGraph?\")"
   ]
  },
  {
   "cell_type": "code",
   "execution_count": null,
   "id": "253fb8fd",
   "metadata": {},
   "outputs": [],
   "source": [
    "g\n",
    "raph = graph_builder.compile(checkpointer=memory)"
   ]
  },
  {
   "cell_type": "code",
   "execution_count": null,
   "id": "fc8b0e49",
   "metadata": {},
   "outputs": [],
   "source": [
    "\n",
    "config = {\"configurable\": {\"thread_id\": \"1\"}}"
   ]
  },
  {
   "cell_type": "code",
   "execution_count": 31,
   "id": "54366364",
   "metadata": {},
   "outputs": [
    {
     "name": "stdout",
     "output_type": "stream",
     "text": [
      "================================\u001b[1m Human Message \u001b[0m=================================\n",
      "\n",
      "Hi there! My name is tausif.\n",
      "==================================\u001b[1m Ai Message \u001b[0m==================================\n",
      "\n",
      "I apologize for the confusion earlier, Tausif. Thank you for correcting me. It's nice to meet you! How can I help you today? Is there anything specific you'd like to know about or discuss?\n"
     ]
    }
   ],
   "source": [
    "user_input = \"Hi there! My name is tausif.\"\n",
    "\n",
    "# The config is the **second positional argument** to stream() or invoke()!\n",
    "events = graph.stream(\n",
    "    {\"messages\": [{\"role\": \"user\", \"content\": user_input}]},\n",
    "    config,\n",
    "    stream_mode=\"values\",\n",
    ")\n",
    "for event in events:\n",
    "    event[\"messages\"][-1].pretty_print()"
   ]
  },
  {
   "cell_type": "code",
   "execution_count": null,
   "id": "bac98b7f",
   "metadata": {},
   "outputs": [
    {
     "name": "stdout",
     "output_type": "stream",
     "text": [
      "================================\u001b[1m Human Message \u001b[0m=================================\n",
      "\n",
      "Remember my name?\n",
      "==================================\u001b[1m Ai Message \u001b[0m==================================\n",
      "\n",
      "Of course, Tausif. I remember your name. You introduced yourself as Tausif, and I've made note of that. Is there anything in particular you'd like to talk about or any questions you have? I'm here to help with any information or assistance you might need.\n"
     ]
    }
   ],
   "source": [
    "\n",
    "user_input = \"Remember my name?\"\n",
    "\n",
    "# The config is the **second positional argument** to stream() or invoke()!\n",
    "events = graph.stream(\n",
    "    {\"messages\": [{\"role\": \"user\", \"content\": user_input}]},\n",
    "    config,\n",
    "    stream_mode=\"values\",\n",
    ")\n",
    "for event in events:\n",
    "    event[\"messages\"][-1].pretty_print()"
   ]
  },
  {
   "cell_type": "code",
   "execution_count": 33,
   "id": "b13ff2bf",
   "metadata": {},
   "outputs": [
    {
     "name": "stdout",
     "output_type": "stream",
     "text": [
      "================================\u001b[1m Human Message \u001b[0m=================================\n",
      "\n",
      "Remember my name?\n",
      "==================================\u001b[1m Ai Message \u001b[0m==================================\n",
      "\n",
      "I apologize, but I don't have any prior context or memory of your name. As an AI language model, I don't retain information from previous conversations or have personal memory. Each interaction starts fresh. If you'd like me to use a specific name for you, please let me know, and I'll be happy to address you by that name during our current conversation.\n"
     ]
    }
   ],
   "source": [
    "# The only difference is we change the `thread_id` here to \"2\" instead of \"1\"\n",
    "events = graph.stream(\n",
    "    {\"messages\": [{\"role\": \"user\", \"content\": user_input}]},\n",
    "    {\"configurable\": {\"thread_id\": \"2\"}},\n",
    "    stream_mode=\"values\",\n",
    ")\n",
    "for event in events:\n",
    "    event[\"messages\"][-1].pretty_print()"
   ]
  },
  {
   "cell_type": "code",
   "execution_count": 34,
   "id": "a702bfff",
   "metadata": {},
   "outputs": [
    {
     "data": {
      "text/plain": [
       "StateSnapshot(values={'messages': [HumanMessage(content='Hi there! My name is Will.', additional_kwargs={}, response_metadata={}, id='b971f9e6-3cdb-4aba-8a71-4083732ac219'), AIMessage(content=\"Hello Will! It's nice to meet you. How can I assist you today? Is there anything specific you'd like to know or discuss?\", additional_kwargs={}, response_metadata={'ResponseMetadata': {'RequestId': 'c83476c6-7368-48bd-befa-9fde77e3607e', 'HTTPStatusCode': 200, 'HTTPHeaders': {'date': 'Thu, 14 Aug 2025 06:34:12 GMT', 'content-type': 'application/json', 'content-length': '306', 'connection': 'keep-alive', 'x-amzn-requestid': 'c83476c6-7368-48bd-befa-9fde77e3607e'}, 'RetryAttempts': 0}, 'stopReason': 'end_turn', 'metrics': {'latencyMs': [1739]}, 'model_name': 'anthropic.claude-3-5-sonnet-20240620-v1:0'}, id='run--4d4dc273-77ca-484f-90df-ec0d2d740d54-0', usage_metadata={'input_tokens': 2106, 'output_tokens': 32, 'total_tokens': 2138, 'input_token_details': {'cache_creation': 0, 'cache_read': 0}}), HumanMessage(content='Hi there! My name is tausif.', additional_kwargs={}, response_metadata={}, id='b9365036-e9d5-49a6-ac52-2396e105751f'), AIMessage(content=\"I apologize for the confusion earlier, Tausif. Thank you for correcting me. It's nice to meet you! How can I help you today? Is there anything specific you'd like to know about or discuss?\", additional_kwargs={}, response_metadata={'ResponseMetadata': {'RequestId': '577adb1e-3907-4e82-9754-cae91a5c94ad', 'HTTPStatusCode': 200, 'HTTPHeaders': {'date': 'Thu, 14 Aug 2025 06:34:42 GMT', 'content-type': 'application/json', 'content-length': '374', 'connection': 'keep-alive', 'x-amzn-requestid': '577adb1e-3907-4e82-9754-cae91a5c94ad'}, 'RetryAttempts': 0}, 'stopReason': 'end_turn', 'metrics': {'latencyMs': [2200]}, 'model_name': 'anthropic.claude-3-5-sonnet-20240620-v1:0'}, id='run--26473bca-6066-4558-a69c-bb732f01f622-0', usage_metadata={'input_tokens': 2151, 'output_tokens': 50, 'total_tokens': 2201, 'input_token_details': {'cache_creation': 0, 'cache_read': 0}}), HumanMessage(content='Remember my name?', additional_kwargs={}, response_metadata={}, id='0cc0b45c-0e4f-40a4-a726-87d78dbdaf56'), AIMessage(content=\"Of course, Tausif. I remember your name. You introduced yourself as Tausif, and I've made note of that. Is there anything in particular you'd like to talk about or any questions you have? I'm here to help with any information or assistance you might need.\", additional_kwargs={}, response_metadata={'ResponseMetadata': {'RequestId': 'bb736df5-72cc-4304-a238-6a80d4e0b68c', 'HTTPStatusCode': 200, 'HTTPHeaders': {'date': 'Thu, 14 Aug 2025 06:34:53 GMT', 'content-type': 'application/json', 'content-length': '441', 'connection': 'keep-alive', 'x-amzn-requestid': 'bb736df5-72cc-4304-a238-6a80d4e0b68c'}, 'RetryAttempts': 0}, 'stopReason': 'end_turn', 'metrics': {'latencyMs': [2291]}, 'model_name': 'anthropic.claude-3-5-sonnet-20240620-v1:0'}, id='run--9c57fec7-ca4d-43a3-9793-c9b6e7956fba-0', usage_metadata={'input_tokens': 2208, 'output_tokens': 64, 'total_tokens': 2272, 'input_token_details': {'cache_creation': 0, 'cache_read': 0}})]}, next=(), config={'configurable': {'thread_id': '1', 'checkpoint_ns': '', 'checkpoint_id': '1f078d8c-96e8-641e-8007-9155d3b4abd6'}}, metadata={'source': 'loop', 'step': 7, 'parents': {}}, created_at='2025-08-14T06:34:53.621717+00:00', parent_config={'configurable': {'thread_id': '1', 'checkpoint_ns': '', 'checkpoint_id': '1f078d8c-7e13-6f56-8006-5c6c820a6005'}}, tasks=(), interrupts=())"
      ]
     },
     "execution_count": 34,
     "metadata": {},
     "output_type": "execute_result"
    }
   ],
   "source": [
    "snapshot = graph.get_state(config)\n",
    "snapshot"
   ]
  },
  {
   "cell_type": "code",
   "execution_count": null,
   "id": "5df0af56",
   "metadata": {},
   "outputs": [],
   "source": []
  }
 ],
 "metadata": {
  "kernelspec": {
   "display_name": "genai2",
   "language": "python",
   "name": "python3"
  },
  "language_info": {
   "codemirror_mode": {
    "name": "ipython",
    "version": 3
   },
   "file_extension": ".py",
   "mimetype": "text/x-python",
   "name": "python",
   "nbconvert_exporter": "python",
   "pygments_lexer": "ipython3",
   "version": "3.12.11"
  }
 },
 "nbformat": 4,
 "nbformat_minor": 5
}
